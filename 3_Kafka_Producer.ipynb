{
 "cells": [
  {
   "cell_type": "code",
   "execution_count": 4,
   "id": "42ba2958",
   "metadata": {},
   "outputs": [
    {
     "name": "stdout",
     "output_type": "stream",
     "text": [
      "Iniciando a leitura de dados do RDS e envio para o Kafka...\n",
      "Ocorreu um erro: NoBrokersAvailable\n"
     ]
    }
   ],
   "source": [
    "import psycopg2  # Para conectar ao PostgreSQL no RDS\n",
    "from kafka import KafkaProducer\n",
    "import json\n",
    "import time\n",
    "import random\n",
    "from datetime import datetime\n",
    "\n",
    "# Configurações do RDS (você já as tem no seu script)\n",
    "DB_HOST = 'db-banco.c07gis2620tg.us-east-1.rds.amazonaws.com'\n",
    "DB_PORT = '5432'\n",
    "DB_NAME = 'db_banco'\n",
    "DB_USER = 'postgres'\n",
    "DB_PASSWORD = 'XqNuKeQw12345'\n",
    "\n",
    "# Configurações do Kafka MSK (use os seus brokers)\n",
    "bootstrap_servers = [\"b-2.mskbancocluster.vwlqp6.c6.kafka.us-east-1.amazonaws.com:9094\",\n",
    "                     \"b-3.mskbancocluster.vwlqp6.c6.kafka.us-east-1.amazonaws.com:9094\",\n",
    "                     \"b-1.mskbancocluster.vwlqp6.c6.kafka.us-east-1.amazonaws.com:9094\"]\n",
    "topic_name = \"MSKTopic\"\n",
    "\n",
    "def read_and_send_rds_data():\n",
    "    conn = None  # Inicializa conn com None\n",
    "    producer = None  # Inicializa producer com None\n",
    "    try:\n",
    "        # Conecta ao RDS\n",
    "        conn = psycopg2.connect(host=DB_HOST, port=DB_PORT, database=DB_NAME, user=DB_USER, password=DB_PASSWORD)\n",
    "        cur = conn.cursor()\n",
    "\n",
    "        # Inicializa o produtor Kafka\n",
    "        producer = KafkaProducer(bootstrap_servers=bootstrap_servers,\n",
    "                                 value_serializer=lambda x: json.dumps(x).encode('utf-8'))\n",
    "\n",
    "        while True:\n",
    "            # Escolhe aleatoriamente uma tabela para ler (você pode ajustar isso)\n",
    "            tables = ['clientes', 'transacoes', 'emprestimos', 'pagamentos']\n",
    "            chosen_table = random.choice(tables)\n",
    "            print(f\"Lendo dados da tabela: {chosen_table}\")\n",
    "\n",
    "            # Executa a consulta SQL para obter os dados da tabela escolhida\n",
    "            cur.execute(f\"SELECT * FROM {chosen_table}\")\n",
    "            columns = [desc[0] for desc in cur.description]\n",
    "            rows = cur.fetchall()\n",
    "\n",
    "            for row in rows:\n",
    "                # Cria um dicionário com os dados da linha\n",
    "                data = dict(zip(columns, row))\n",
    "                # Adiciona o nome da tabela para identificar a origem no Kafka (opcional)\n",
    "                data['source_table'] = chosen_table\n",
    "                # Envia a mensagem para o tópico Kafka\n",
    "                producer.send(topic_name, value=data)\n",
    "                print(f\"Enviado para Kafka ({chosen_table}): {data}\")\n",
    "\n",
    "            producer.flush()  # Garante que todas as mensagens pendentes sejam enviadas\n",
    "            time.sleep(10)  # Espera por 10 segundos antes de ler novamente (ajuste conforme necessário)\n",
    "\n",
    "    except Exception as e:\n",
    "        print(f\"Ocorreu um erro: {e}\")\n",
    "    finally:\n",
    "        if conn:\n",
    "            conn.close()\n",
    "        if producer:\n",
    "            producer.close()\n",
    "\n",
    "if __name__ == \"__main__\":\n",
    "    print(\"Iniciando a leitura de dados do RDS e envio para o Kafka...\")\n",
    "    read_and_send_rds_data()"
   ]
  },
  {
   "cell_type": "code",
   "execution_count": null,
   "id": "28f96994",
   "metadata": {},
   "outputs": [],
   "source": []
  }
 ],
 "metadata": {
  "kernelspec": {
   "display_name": "Python 3",
   "language": "python",
   "name": "python3"
  },
  "language_info": {
   "codemirror_mode": {
    "name": "ipython",
    "version": 3
   },
   "file_extension": ".py",
   "mimetype": "text/x-python",
   "name": "python",
   "nbconvert_exporter": "python",
   "pygments_lexer": "ipython3",
   "version": "3.13.2"
  }
 },
 "nbformat": 4,
 "nbformat_minor": 5
}
